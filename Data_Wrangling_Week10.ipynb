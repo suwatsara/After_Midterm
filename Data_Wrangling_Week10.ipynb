{
 "cells": [
  {
   "cell_type": "code",
   "execution_count": 1,
   "metadata": {},
   "outputs": [
    {
     "name": "stdout",
     "output_type": "stream",
     "text": [
      "Requirement already satisfied: dropbox in c:\\users\\user\\anaconda3\\lib\\site-packages (11.19.0)\n",
      "Requirement already satisfied: requests>=2.16.2 in c:\\users\\user\\anaconda3\\lib\\site-packages (from dropbox) (2.26.0)\n",
      "Requirement already satisfied: six>=1.12.0 in c:\\users\\user\\anaconda3\\lib\\site-packages (from dropbox) (1.16.0)\n",
      "Requirement already satisfied: stone>=2.* in c:\\users\\user\\anaconda3\\lib\\site-packages (from dropbox) (3.2.1)\n",
      "Requirement already satisfied: certifi>=2017.4.17 in c:\\users\\user\\anaconda3\\lib\\site-packages (from requests>=2.16.2->dropbox) (2019.9.11)\n",
      "Requirement already satisfied: urllib3<1.27,>=1.21.1 in c:\\users\\user\\anaconda3\\lib\\site-packages (from requests>=2.16.2->dropbox) (1.26.6)\n",
      "Requirement already satisfied: idna<4,>=2.5; python_version >= \"3\" in c:\\users\\user\\anaconda3\\lib\\site-packages (from requests>=2.16.2->dropbox) (2.8)\n",
      "Requirement already satisfied: charset-normalizer~=2.0.0; python_version >= \"3\" in c:\\users\\user\\anaconda3\\lib\\site-packages (from requests>=2.16.2->dropbox) (2.0.4)\n",
      "Requirement already satisfied: ply>=3.4 in c:\\users\\user\\anaconda3\\lib\\site-packages (from stone>=2.*->dropbox) (3.11)\n",
      "Note: you may need to restart the kernel to use updated packages.\n"
     ]
    }
   ],
   "source": [
    "pip install dropbox"
   ]
  },
  {
   "cell_type": "code",
   "execution_count": 1,
   "metadata": {},
   "outputs": [],
   "source": [
    "import dropbox"
   ]
  },
  {
   "cell_type": "code",
   "execution_count": 4,
   "metadata": {},
   "outputs": [],
   "source": [
    "dbx = dropbox.Dropbox('sl.A5BA8fLkvE0v4VA7kpL2W3fs7U6A_f1iXJ4oFLFrFUSdg3bCE7Mojwuw9LpNEHXG8KCB-r7hVmn_cjtuzJBHRXW8j25g9Kc0xYwjdM_ZMjTianGQvr8HPYdCyDiKAaOQHD0nyHfs0BaY')"
   ]
  },
  {
   "cell_type": "code",
   "execution_count": 5,
   "metadata": {},
   "outputs": [
    {
     "data": {
      "text/plain": [
       "FullAccount(account_id='dbid:AAAklmuhP3snRPbmJR3BEP-mZ_YWMpGB8K8', account_type=AccountType('basic', None), country='TH', disabled=False, email='do.suwatsara_st@tni.ac.th', email_verified=True, is_paired=False, locale='en', name=Name(abbreviated_name='SD', display_name='suwatsara donkhunthod', familiar_name='suwatsara', given_name='suwatsara', surname='donkhunthod'), profile_photo_url='https://dl-web.dropbox.com/account_photo/get/dbaphid%3AAAAbM5oVJ_OQaZlRmpWnjDXMVaYT45zSg-g?size=128x128&vers=1631238287980', referral_link='https://www.dropbox.com/referrals/AADxAGOG-DED3Ph0tA2ze5WmEb6Q1_pPApA?src=app9-1965473', root_info=UserRootInfo(home_namespace_id='1971307393', root_namespace_id='1971307393'), team=NOT_SET, team_member_id=NOT_SET)"
      ]
     },
     "execution_count": 5,
     "metadata": {},
     "output_type": "execute_result"
    }
   ],
   "source": [
    "dbx.users_get_current_account()"
   ]
  },
  {
   "cell_type": "code",
   "execution_count": 6,
   "metadata": {},
   "outputs": [
    {
     "name": "stdout",
     "output_type": "stream",
     "text": [
      "Documents\n"
     ]
    }
   ],
   "source": [
    "for entry in dbx.files_list_folder('').entries:\n",
    "    print(entry.name)"
   ]
  },
  {
   "cell_type": "code",
   "execution_count": 8,
   "metadata": {},
   "outputs": [],
   "source": [
    "access_token = 'sl.A5BA8fLkvE0v4VA7kpL2W3fs7U6A_f1iXJ4oFLFrFUSdg3bCE7Mojwuw9LpNEHXG8KCB-r7hVmn_cjtuzJBHRXW8j25g9Kc0xYwjdM_ZMjTianGQvr8HPYdCyDiKAaOQHD0nyHfs0BaY'\n",
    "file_from = 'Pictures/69400.jpg' \n",
    "file_to = '/Documents/69400.jpg'     \n",
    "def upload_file(file_from, file_to):\n",
    "    dbx = dropbox.Dropbox(access_token)\n",
    "    f = open(file_from, 'rb')\n",
    "    dbx.files_upload(f.read(), file_to)\n",
    "upload_file(file_from,file_to)"
   ]
  },
  {
   "cell_type": "code",
   "execution_count": 9,
   "metadata": {},
   "outputs": [
    {
     "name": "stdout",
     "output_type": "stream",
     "text": [
      "2021-09-10 02:27:53\n"
     ]
    }
   ],
   "source": [
    "print(dbx.files_get_metadata('/Documents/69400.jpg').server_modified)"
   ]
  },
  {
   "cell_type": "code",
   "execution_count": 2,
   "metadata": {},
   "outputs": [],
   "source": [
    "import requests"
   ]
  },
  {
   "cell_type": "code",
   "execution_count": 3,
   "metadata": {},
   "outputs": [],
   "source": [
    "response = requests.get(\"https://datausa.io/api/data?drilldowns=Nation&measures=Population\")"
   ]
  },
  {
   "cell_type": "code",
   "execution_count": 4,
   "metadata": {},
   "outputs": [
    {
     "name": "stdout",
     "output_type": "stream",
     "text": [
      "200\n"
     ]
    }
   ],
   "source": [
    "print(response.status_code)"
   ]
  },
  {
   "cell_type": "code",
   "execution_count": 5,
   "metadata": {},
   "outputs": [
    {
     "name": "stdout",
     "output_type": "stream",
     "text": [
      "{'data': [{'ID Nation': '01000US', 'Nation': 'United States', 'ID Year': 2019, 'Year': '2019', 'Population': 328239523, 'Slug Nation': 'united-states'}, {'ID Nation': '01000US', 'Nation': 'United States', 'ID Year': 2018, 'Year': '2018', 'Population': 327167439, 'Slug Nation': 'united-states'}, {'ID Nation': '01000US', 'Nation': 'United States', 'ID Year': 2017, 'Year': '2017', 'Population': 325719178, 'Slug Nation': 'united-states'}, {'ID Nation': '01000US', 'Nation': 'United States', 'ID Year': 2016, 'Year': '2016', 'Population': 323127515, 'Slug Nation': 'united-states'}, {'ID Nation': '01000US', 'Nation': 'United States', 'ID Year': 2015, 'Year': '2015', 'Population': 321418821, 'Slug Nation': 'united-states'}, {'ID Nation': '01000US', 'Nation': 'United States', 'ID Year': 2014, 'Year': '2014', 'Population': 318857056, 'Slug Nation': 'united-states'}, {'ID Nation': '01000US', 'Nation': 'United States', 'ID Year': 2013, 'Year': '2013', 'Population': 316128839, 'Slug Nation': 'united-states'}], 'source': [{'measures': ['Population'], 'annotations': {'source_name': 'Census Bureau', 'source_description': 'The American Community Survey (ACS) is conducted by the US Census and sent to a portion of the population every year.', 'dataset_name': 'ACS 1-year Estimate', 'dataset_link': 'http://www.census.gov/programs-surveys/acs/', 'table_id': 'B01003', 'topic': 'Diversity', 'subtopic': 'Demographics'}, 'name': 'acs_yg_total_population_1', 'substitutions': []}]}\n"
     ]
    }
   ],
   "source": [
    "print(response.json())\n",
    "import json"
   ]
  },
  {
   "cell_type": "code",
   "execution_count": 6,
   "metadata": {},
   "outputs": [],
   "source": [
    "with open('datausa.json','w') as f:\n",
    "    json.dump(response.json(),f)"
   ]
  },
  {
   "cell_type": "code",
   "execution_count": 7,
   "metadata": {},
   "outputs": [],
   "source": [
    "import pandas as pd\n",
    "with open('datausa.json') as json_data:\n",
    "    data = json.load(json_data)\n",
    "\n",
    "data = data['data']\n",
    "\n"
   ]
  },
  {
   "cell_type": "code",
   "execution_count": 8,
   "metadata": {},
   "outputs": [
    {
     "data": {
      "text/plain": [
       "[{'ID Nation': '01000US',\n",
       "  'Nation': 'United States',\n",
       "  'ID Year': 2019,\n",
       "  'Year': '2019',\n",
       "  'Population': 328239523,\n",
       "  'Slug Nation': 'united-states'},\n",
       " {'ID Nation': '01000US',\n",
       "  'Nation': 'United States',\n",
       "  'ID Year': 2018,\n",
       "  'Year': '2018',\n",
       "  'Population': 327167439,\n",
       "  'Slug Nation': 'united-states'},\n",
       " {'ID Nation': '01000US',\n",
       "  'Nation': 'United States',\n",
       "  'ID Year': 2017,\n",
       "  'Year': '2017',\n",
       "  'Population': 325719178,\n",
       "  'Slug Nation': 'united-states'},\n",
       " {'ID Nation': '01000US',\n",
       "  'Nation': 'United States',\n",
       "  'ID Year': 2016,\n",
       "  'Year': '2016',\n",
       "  'Population': 323127515,\n",
       "  'Slug Nation': 'united-states'},\n",
       " {'ID Nation': '01000US',\n",
       "  'Nation': 'United States',\n",
       "  'ID Year': 2015,\n",
       "  'Year': '2015',\n",
       "  'Population': 321418821,\n",
       "  'Slug Nation': 'united-states'},\n",
       " {'ID Nation': '01000US',\n",
       "  'Nation': 'United States',\n",
       "  'ID Year': 2014,\n",
       "  'Year': '2014',\n",
       "  'Population': 318857056,\n",
       "  'Slug Nation': 'united-states'},\n",
       " {'ID Nation': '01000US',\n",
       "  'Nation': 'United States',\n",
       "  'ID Year': 2013,\n",
       "  'Year': '2013',\n",
       "  'Population': 316128839,\n",
       "  'Slug Nation': 'united-states'}]"
      ]
     },
     "execution_count": 8,
     "metadata": {},
     "output_type": "execute_result"
    }
   ],
   "source": [
    "data"
   ]
  },
  {
   "cell_type": "code",
   "execution_count": 9,
   "metadata": {},
   "outputs": [],
   "source": [
    "df = pd.DataFrame(data)"
   ]
  },
  {
   "cell_type": "code",
   "execution_count": 10,
   "metadata": {},
   "outputs": [
    {
     "data": {
      "text/html": [
       "<div>\n",
       "<style scoped>\n",
       "    .dataframe tbody tr th:only-of-type {\n",
       "        vertical-align: middle;\n",
       "    }\n",
       "\n",
       "    .dataframe tbody tr th {\n",
       "        vertical-align: top;\n",
       "    }\n",
       "\n",
       "    .dataframe thead th {\n",
       "        text-align: right;\n",
       "    }\n",
       "</style>\n",
       "<table border=\"1\" class=\"dataframe\">\n",
       "  <thead>\n",
       "    <tr style=\"text-align: right;\">\n",
       "      <th></th>\n",
       "      <th>ID Nation</th>\n",
       "      <th>Nation</th>\n",
       "      <th>ID Year</th>\n",
       "      <th>Year</th>\n",
       "      <th>Population</th>\n",
       "      <th>Slug Nation</th>\n",
       "    </tr>\n",
       "  </thead>\n",
       "  <tbody>\n",
       "    <tr>\n",
       "      <th>0</th>\n",
       "      <td>01000US</td>\n",
       "      <td>United States</td>\n",
       "      <td>2019</td>\n",
       "      <td>2019</td>\n",
       "      <td>328239523</td>\n",
       "      <td>united-states</td>\n",
       "    </tr>\n",
       "    <tr>\n",
       "      <th>1</th>\n",
       "      <td>01000US</td>\n",
       "      <td>United States</td>\n",
       "      <td>2018</td>\n",
       "      <td>2018</td>\n",
       "      <td>327167439</td>\n",
       "      <td>united-states</td>\n",
       "    </tr>\n",
       "    <tr>\n",
       "      <th>2</th>\n",
       "      <td>01000US</td>\n",
       "      <td>United States</td>\n",
       "      <td>2017</td>\n",
       "      <td>2017</td>\n",
       "      <td>325719178</td>\n",
       "      <td>united-states</td>\n",
       "    </tr>\n",
       "    <tr>\n",
       "      <th>3</th>\n",
       "      <td>01000US</td>\n",
       "      <td>United States</td>\n",
       "      <td>2016</td>\n",
       "      <td>2016</td>\n",
       "      <td>323127515</td>\n",
       "      <td>united-states</td>\n",
       "    </tr>\n",
       "    <tr>\n",
       "      <th>4</th>\n",
       "      <td>01000US</td>\n",
       "      <td>United States</td>\n",
       "      <td>2015</td>\n",
       "      <td>2015</td>\n",
       "      <td>321418821</td>\n",
       "      <td>united-states</td>\n",
       "    </tr>\n",
       "  </tbody>\n",
       "</table>\n",
       "</div>"
      ],
      "text/plain": [
       "  ID Nation         Nation  ID Year  Year  Population    Slug Nation\n",
       "0   01000US  United States     2019  2019   328239523  united-states\n",
       "1   01000US  United States     2018  2018   327167439  united-states\n",
       "2   01000US  United States     2017  2017   325719178  united-states\n",
       "3   01000US  United States     2016  2016   323127515  united-states\n",
       "4   01000US  United States     2015  2015   321418821  united-states"
      ]
     },
     "execution_count": 10,
     "metadata": {},
     "output_type": "execute_result"
    }
   ],
   "source": [
    "df.head()"
   ]
  },
  {
   "cell_type": "code",
   "execution_count": 19,
   "metadata": {},
   "outputs": [
    {
     "data": {
      "text/plain": [
       "Index(['ID Nation', 'Nation', 'ID Year', 'Year', 'Population', 'Slug Nation'], dtype='object')"
      ]
     },
     "execution_count": 19,
     "metadata": {},
     "output_type": "execute_result"
    }
   ],
   "source": [
    "df.columns"
   ]
  },
  {
   "cell_type": "code",
   "execution_count": 11,
   "metadata": {},
   "outputs": [
    {
     "name": "stdout",
     "output_type": "stream",
     "text": [
      "<class 'pandas.core.frame.DataFrame'>\n",
      "RangeIndex: 7 entries, 0 to 6\n",
      "Data columns (total 6 columns):\n",
      " #   Column       Non-Null Count  Dtype \n",
      "---  ------       --------------  ----- \n",
      " 0   ID Nation    7 non-null      object\n",
      " 1   Nation       7 non-null      object\n",
      " 2   ID Year      7 non-null      int64 \n",
      " 3   Year         7 non-null      object\n",
      " 4   Population   7 non-null      int64 \n",
      " 5   Slug Nation  7 non-null      object\n",
      "dtypes: int64(2), object(4)\n",
      "memory usage: 464.0+ bytes\n"
     ]
    }
   ],
   "source": [
    "df.info()"
   ]
  },
  {
   "cell_type": "code",
   "execution_count": 12,
   "metadata": {},
   "outputs": [],
   "source": [
    "df.drop(columns=['ID Year', 'Slug Nation'], inplace= True)"
   ]
  },
  {
   "cell_type": "code",
   "execution_count": 13,
   "metadata": {},
   "outputs": [
    {
     "data": {
      "text/html": [
       "<div>\n",
       "<style scoped>\n",
       "    .dataframe tbody tr th:only-of-type {\n",
       "        vertical-align: middle;\n",
       "    }\n",
       "\n",
       "    .dataframe tbody tr th {\n",
       "        vertical-align: top;\n",
       "    }\n",
       "\n",
       "    .dataframe thead th {\n",
       "        text-align: right;\n",
       "    }\n",
       "</style>\n",
       "<table border=\"1\" class=\"dataframe\">\n",
       "  <thead>\n",
       "    <tr style=\"text-align: right;\">\n",
       "      <th></th>\n",
       "      <th>ID Nation</th>\n",
       "      <th>Nation</th>\n",
       "      <th>Year</th>\n",
       "      <th>Population</th>\n",
       "    </tr>\n",
       "  </thead>\n",
       "  <tbody>\n",
       "    <tr>\n",
       "      <th>0</th>\n",
       "      <td>01000US</td>\n",
       "      <td>United States</td>\n",
       "      <td>2019</td>\n",
       "      <td>328239523</td>\n",
       "    </tr>\n",
       "    <tr>\n",
       "      <th>1</th>\n",
       "      <td>01000US</td>\n",
       "      <td>United States</td>\n",
       "      <td>2018</td>\n",
       "      <td>327167439</td>\n",
       "    </tr>\n",
       "    <tr>\n",
       "      <th>2</th>\n",
       "      <td>01000US</td>\n",
       "      <td>United States</td>\n",
       "      <td>2017</td>\n",
       "      <td>325719178</td>\n",
       "    </tr>\n",
       "    <tr>\n",
       "      <th>3</th>\n",
       "      <td>01000US</td>\n",
       "      <td>United States</td>\n",
       "      <td>2016</td>\n",
       "      <td>323127515</td>\n",
       "    </tr>\n",
       "    <tr>\n",
       "      <th>4</th>\n",
       "      <td>01000US</td>\n",
       "      <td>United States</td>\n",
       "      <td>2015</td>\n",
       "      <td>321418821</td>\n",
       "    </tr>\n",
       "  </tbody>\n",
       "</table>\n",
       "</div>"
      ],
      "text/plain": [
       "  ID Nation         Nation  Year  Population\n",
       "0   01000US  United States  2019   328239523\n",
       "1   01000US  United States  2018   327167439\n",
       "2   01000US  United States  2017   325719178\n",
       "3   01000US  United States  2016   323127515\n",
       "4   01000US  United States  2015   321418821"
      ]
     },
     "execution_count": 13,
     "metadata": {},
     "output_type": "execute_result"
    }
   ],
   "source": [
    "df.head()"
   ]
  },
  {
   "cell_type": "code",
   "execution_count": 14,
   "metadata": {},
   "outputs": [],
   "source": [
    "import matplotlib.pyplot as plt \n",
    "%matplotlib inline"
   ]
  },
  {
   "cell_type": "code",
   "execution_count": 15,
   "metadata": {},
   "outputs": [],
   "source": [
    "df.index = df['Year']\n",
    "\n",
    "df.drop(columns=['Year'],inplace=True)\n"
   ]
  },
  {
   "cell_type": "code",
   "execution_count": 16,
   "metadata": {},
   "outputs": [
    {
     "data": {
      "text/plain": [
       "<AxesSubplot:title={'center':'Population of USA over year'}, xlabel='Year'>"
      ]
     },
     "execution_count": 16,
     "metadata": {},
     "output_type": "execute_result"
    },
    {
     "data": {
      "image/png": "[encoded data removed]",
      "text/plain": [
       "<Figure size 1008x432 with 1 Axes>"
      ]
     },
     "metadata": {
      "needs_background": "light"
     },
     "output_type": "display_data"
    }
   ],
   "source": [
    "df.sort_index(inplace=True)\n",
    "df['Population'].plot(figsize=(14,6),title=\"Population of USA over year\",grid=True, color='b')"
   ]
  },
  {
   "cell_type": "code",
   "execution_count": 17,
   "metadata": {},
   "outputs": [],
   "source": [
    "coin = requests.get(\"https://api.coindesk.com/v1/bpi/currentprice.json\")"
   ]
  },
  {
   "cell_type": "code",
   "execution_count": 18,
   "metadata": {},
   "outputs": [],
   "source": [
    "with open('coin.json','w') as d:\n",
    "    json.dump(coin.json(),d)"
   ]
  },
  {
   "cell_type": "code",
   "execution_count": 19,
   "metadata": {},
   "outputs": [],
   "source": [
    "with open('coin.json','rb') as f:\n",
    "    coin_data = json.load(f)"
   ]
  },
  {
   "cell_type": "code",
   "execution_count": 20,
   "metadata": {},
   "outputs": [],
   "source": [
    "coin_data = coin_data['bpi']"
   ]
  },
  {
   "cell_type": "code",
   "execution_count": 21,
   "metadata": {},
   "outputs": [],
   "source": [
    "coin_df = pd.DataFrame(coin_data)"
   ]
  },
  {
   "cell_type": "code",
   "execution_count": 22,
   "metadata": {},
   "outputs": [
    {
     "data": {
      "text/html": [
       "<div>\n",
       "<style scoped>\n",
       "    .dataframe tbody tr th:only-of-type {\n",
       "        vertical-align: middle;\n",
       "    }\n",
       "\n",
       "    .dataframe tbody tr th {\n",
       "        vertical-align: top;\n",
       "    }\n",
       "\n",
       "    .dataframe thead th {\n",
       "        text-align: right;\n",
       "    }\n",
       "</style>\n",
       "<table border=\"1\" class=\"dataframe\">\n",
       "  <thead>\n",
       "    <tr style=\"text-align: right;\">\n",
       "      <th></th>\n",
       "      <th>USD</th>\n",
       "      <th>GBP</th>\n",
       "      <th>EUR</th>\n",
       "    </tr>\n",
       "  </thead>\n",
       "  <tbody>\n",
       "    <tr>\n",
       "      <th>code</th>\n",
       "      <td>USD</td>\n",
       "      <td>GBP</td>\n",
       "      <td>EUR</td>\n",
       "    </tr>\n",
       "    <tr>\n",
       "      <th>symbol</th>\n",
       "      <td>&amp;#36;</td>\n",
       "      <td>&amp;pound;</td>\n",
       "      <td>&amp;euro;</td>\n",
       "    </tr>\n",
       "    <tr>\n",
       "      <th>rate</th>\n",
       "      <td>43,638.4452</td>\n",
       "      <td>32,434.2744</td>\n",
       "      <td>37,694.1034</td>\n",
       "    </tr>\n",
       "    <tr>\n",
       "      <th>description</th>\n",
       "      <td>United States Dollar</td>\n",
       "      <td>British Pound Sterling</td>\n",
       "      <td>Euro</td>\n",
       "    </tr>\n",
       "    <tr>\n",
       "      <th>rate_float</th>\n",
       "      <td>43638.4452</td>\n",
       "      <td>32434.2744</td>\n",
       "      <td>37694.1034</td>\n",
       "    </tr>\n",
       "  </tbody>\n",
       "</table>\n",
       "</div>"
      ],
      "text/plain": [
       "                              USD                     GBP          EUR\n",
       "code                          USD                     GBP          EUR\n",
       "symbol                      &#36;                 &pound;       &euro;\n",
       "rate                  43,638.4452             32,434.2744  37,694.1034\n",
       "description  United States Dollar  British Pound Sterling         Euro\n",
       "rate_float             43638.4452              32434.2744   37694.1034"
      ]
     },
     "execution_count": 22,
     "metadata": {},
     "output_type": "execute_result"
    }
   ],
   "source": [
    "coin_df"
   ]
  },
  {
   "cell_type": "code",
   "execution_count": 23,
   "metadata": {},
   "outputs": [
    {
     "data": {
      "text/html": [
       "<div>\n",
       "<style scoped>\n",
       "    .dataframe tbody tr th:only-of-type {\n",
       "        vertical-align: middle;\n",
       "    }\n",
       "\n",
       "    .dataframe tbody tr th {\n",
       "        vertical-align: top;\n",
       "    }\n",
       "\n",
       "    .dataframe thead th {\n",
       "        text-align: right;\n",
       "    }\n",
       "</style>\n",
       "<table border=\"1\" class=\"dataframe\">\n",
       "  <thead>\n",
       "    <tr style=\"text-align: right;\">\n",
       "      <th></th>\n",
       "      <th>code</th>\n",
       "      <th>symbol</th>\n",
       "      <th>rate</th>\n",
       "      <th>description</th>\n",
       "      <th>rate_float</th>\n",
       "    </tr>\n",
       "  </thead>\n",
       "  <tbody>\n",
       "    <tr>\n",
       "      <th>USD</th>\n",
       "      <td>USD</td>\n",
       "      <td>&amp;#36;</td>\n",
       "      <td>43,638.4452</td>\n",
       "      <td>United States Dollar</td>\n",
       "      <td>43638.4452</td>\n",
       "    </tr>\n",
       "    <tr>\n",
       "      <th>GBP</th>\n",
       "      <td>GBP</td>\n",
       "      <td>&amp;pound;</td>\n",
       "      <td>32,434.2744</td>\n",
       "      <td>British Pound Sterling</td>\n",
       "      <td>32434.2744</td>\n",
       "    </tr>\n",
       "    <tr>\n",
       "      <th>EUR</th>\n",
       "      <td>EUR</td>\n",
       "      <td>&amp;euro;</td>\n",
       "      <td>37,694.1034</td>\n",
       "      <td>Euro</td>\n",
       "      <td>37694.1034</td>\n",
       "    </tr>\n",
       "  </tbody>\n",
       "</table>\n",
       "</div>"
      ],
      "text/plain": [
       "    code   symbol         rate             description  rate_float\n",
       "USD  USD    &#36;  43,638.4452    United States Dollar  43638.4452\n",
       "GBP  GBP  &pound;  32,434.2744  British Pound Sterling  32434.2744\n",
       "EUR  EUR   &euro;  37,694.1034                    Euro  37694.1034"
      ]
     },
     "execution_count": 23,
     "metadata": {},
     "output_type": "execute_result"
    }
   ],
   "source": [
    "coin_df = coin_df.transpose()\n",
    "coin_df"
   ]
  },
  {
   "cell_type": "code",
   "execution_count": 24,
   "metadata": {},
   "outputs": [
    {
     "data": {
      "text/plain": [
       "'43,638.4452'"
      ]
     },
     "execution_count": 24,
     "metadata": {},
     "output_type": "execute_result"
    }
   ],
   "source": [
    "coin_df['rate']['USD']"
   ]
  },
  {
   "cell_type": "code",
   "execution_count": 25,
   "metadata": {},
   "outputs": [
    {
     "data": {
      "image/png": "[encoded data removed]",
      "text/plain": [
       "<Figure size 432x288 with 1 Axes>"
      ]
     },
     "metadata": {
      "needs_background": "light"
     },
     "output_type": "display_data"
    }
   ],
   "source": [
    "import numpy as np\n",
    "code = ['USD','GBP','EUR']\n",
    "x_pos = np.arange(len(code)) #material มีสามตัวเลยเท่ากับ  0 1 2\n",
    "data = [coin_df['rate']['GBP'],coin_df['rate']['EUR'],coin_df['rate']['USD']]\n",
    "fig, ax = plt.subplots()\n",
    "ax.bar(['GBP','EUR','USD'], data)\n",
    "plt.show()\n"
   ]
  },
  {
   "cell_type": "code",
   "execution_count": 26,
   "metadata": {},
   "outputs": [],
   "source": [
    "university = requests.get(\"http://universities.hipolabs.com/search?country=Thailand\")\n",
    "with open('university.json','w') as f:\n",
    "    json.dump(university.json(),f)"
   ]
  },
  {
   "cell_type": "code",
   "execution_count": 27,
   "metadata": {},
   "outputs": [
    {
     "data": {
      "text/html": [
       "<div>\n",
       "<style scoped>\n",
       "    .dataframe tbody tr th:only-of-type {\n",
       "        vertical-align: middle;\n",
       "    }\n",
       "\n",
       "    .dataframe tbody tr th {\n",
       "        vertical-align: top;\n",
       "    }\n",
       "\n",
       "    .dataframe thead th {\n",
       "        text-align: right;\n",
       "    }\n",
       "</style>\n",
       "<table border=\"1\" class=\"dataframe\">\n",
       "  <thead>\n",
       "    <tr style=\"text-align: right;\">\n",
       "      <th></th>\n",
       "      <th>domains</th>\n",
       "      <th>name</th>\n",
       "      <th>country</th>\n",
       "      <th>alpha_two_code</th>\n",
       "      <th>state-province</th>\n",
       "      <th>web_pages</th>\n",
       "    </tr>\n",
       "  </thead>\n",
       "  <tbody>\n",
       "    <tr>\n",
       "      <th>0</th>\n",
       "      <td>[ait.ac.th]</td>\n",
       "      <td>Asian Institute of Technology</td>\n",
       "      <td>Thailand</td>\n",
       "      <td>TH</td>\n",
       "      <td>Pathum Thani</td>\n",
       "      <td>[https://www.ait.ac.th/]</td>\n",
       "    </tr>\n",
       "    <tr>\n",
       "      <th>1</th>\n",
       "      <td>[aru.ac.th]</td>\n",
       "      <td>Phranakhon Si Ayutthaya Rajabhat University</td>\n",
       "      <td>Thailand</td>\n",
       "      <td>TH</td>\n",
       "      <td>Phra Nakhon Si Ayutthaya</td>\n",
       "      <td>[https://www.aru.ac.th/]</td>\n",
       "    </tr>\n",
       "    <tr>\n",
       "      <th>2</th>\n",
       "      <td>[asianust.ac.th]</td>\n",
       "      <td>Asian University of Science and Technology</td>\n",
       "      <td>Thailand</td>\n",
       "      <td>TH</td>\n",
       "      <td>Chon Buri</td>\n",
       "      <td>[http://www.asianust.ac.th/]</td>\n",
       "    </tr>\n",
       "    <tr>\n",
       "      <th>3</th>\n",
       "      <td>[au.edu]</td>\n",
       "      <td>Assumption University of Thailand</td>\n",
       "      <td>Thailand</td>\n",
       "      <td>TH</td>\n",
       "      <td>Bangkok</td>\n",
       "      <td>[https://www.au.edu/]</td>\n",
       "    </tr>\n",
       "    <tr>\n",
       "      <th>4</th>\n",
       "      <td>[bu.ac.th]</td>\n",
       "      <td>Bangkok University</td>\n",
       "      <td>Thailand</td>\n",
       "      <td>TH</td>\n",
       "      <td>Bangkok</td>\n",
       "      <td>[https://www.bu.ac.th/]</td>\n",
       "    </tr>\n",
       "  </tbody>\n",
       "</table>\n",
       "</div>"
      ],
      "text/plain": [
       "            domains                                         name   country  \\\n",
       "0       [ait.ac.th]                Asian Institute of Technology  Thailand   \n",
       "1       [aru.ac.th]  Phranakhon Si Ayutthaya Rajabhat University  Thailand   \n",
       "2  [asianust.ac.th]   Asian University of Science and Technology  Thailand   \n",
       "3          [au.edu]            Assumption University of Thailand  Thailand   \n",
       "4        [bu.ac.th]                           Bangkok University  Thailand   \n",
       "\n",
       "  alpha_two_code            state-province                     web_pages  \n",
       "0             TH              Pathum Thani      [https://www.ait.ac.th/]  \n",
       "1             TH  Phra Nakhon Si Ayutthaya      [https://www.aru.ac.th/]  \n",
       "2             TH                 Chon Buri  [http://www.asianust.ac.th/]  \n",
       "3             TH                   Bangkok         [https://www.au.edu/]  \n",
       "4             TH                   Bangkok       [https://www.bu.ac.th/]  "
      ]
     },
     "execution_count": 27,
     "metadata": {},
     "output_type": "execute_result"
    }
   ],
   "source": [
    "with open('university.json','rb') as h:\n",
    "    uni_thai = json.load(h)\n",
    "    \n",
    "uni_thai = pd.DataFrame(uni_thai)\n",
    "uni_thai.head(5)"
   ]
  },
  {
   "cell_type": "code",
   "execution_count": 31,
   "metadata": {},
   "outputs": [
    {
     "data": {
      "text/plain": [
       "<AxesSubplot:title={'center':'Number of university in each Province'}, xlabel='state-province'>"
      ]
     },
     "execution_count": 31,
     "metadata": {},
     "output_type": "execute_result"
    },
    {
     "data": {
      "image/png": "[encoded data removed]",
      "text/plain": [
       "<Figure size 1008x432 with 1 Axes>"
      ]
     },
     "metadata": {
      "needs_background": "light"
     },
     "output_type": "display_data"
    }
   ],
   "source": [
    "counts = uni_thai.groupby(uni_thai['state-province']).count()\n",
    "counts.drop(columns=['country','alpha_two_code','domains','web_pages'],inplace=True)\n",
    "counts['name'].plot(figsize=(14,6),title=\"Number of university in each Province\",kind='bar', color='pink')"
   ]
  },
  {
   "cell_type": "code",
   "execution_count": 28,
   "metadata": {},
   "outputs": [
    {
     "name": "stdout",
     "output_type": "stream",
     "text": [
      "<class 'pandas.core.frame.DataFrame'>\n",
      "RangeIndex: 66 entries, 0 to 65\n",
      "Data columns (total 6 columns):\n",
      " #   Column          Non-Null Count  Dtype \n",
      "---  ------          --------------  ----- \n",
      " 0   domains         66 non-null     object\n",
      " 1   name            66 non-null     object\n",
      " 2   country         66 non-null     object\n",
      " 3   alpha_two_code  66 non-null     object\n",
      " 4   state-province  66 non-null     object\n",
      " 5   web_pages       66 non-null     object\n",
      "dtypes: object(6)\n",
      "memory usage: 3.2+ KB\n"
     ]
    }
   ],
   "source": [
    "uni_thai.info()"
   ]
  },
  {
   "cell_type": "code",
   "execution_count": 33,
   "metadata": {},
   "outputs": [
    {
     "name": "stdout",
     "output_type": "stream",
     "text": [
      "<class 'pandas.core.frame.DataFrame'>\n",
      "Index: 22 entries, Bangkok to Ubonratchathani\n",
      "Data columns (total 1 columns):\n",
      " #   Column  Non-Null Count  Dtype\n",
      "---  ------  --------------  -----\n",
      " 0   name    22 non-null     int64\n",
      "dtypes: int64(1)\n",
      "memory usage: 352.0+ bytes\n"
     ]
    }
   ],
   "source": [
    "counts.info()\n"
   ]
  },
  {
   "cell_type": "code",
   "execution_count": 37,
   "metadata": {},
   "outputs": [
    {
     "name": "stdout",
     "output_type": "stream",
     "text": [
      "fact: Researchers are unsure exactly how a cat purrs. Most veterinarians believe that a cat purrs by vibrating vocal folds deep in the throat. To do this, a muscle in the larynx opens and closes the air passage about 25 times per second.\n",
      "length: 231\n"
     ]
    }
   ],
   "source": [
    "cat_fact = requests.get(\"https://catfact.ninja/fact\")\n",
    "cat_fact = cat_fact.json()\n",
    "\n",
    "\n",
    "for j in cat_fact:\n",
    "    fact = cat_fact[j]\n",
    "    print(j+\":\", fact)"
   ]
  },
  {
   "cell_type": "code",
   "execution_count": null,
   "metadata": {},
   "outputs": [],
   "source": []
  },
  {
   "cell_type": "code",
   "execution_count": 38,
   "metadata": {},
   "outputs": [
    {
     "name": "stdout",
     "output_type": "stream",
     "text": [
      "activity: Improve your touch typing\n",
      "type: busywork\n",
      "participants: 1\n",
      "price: 0\n",
      "link: https://en.wikipedia.org/wiki/Touch_typing\n",
      "key: 2526437\n",
      "accessibility: 0.8\n"
     ]
    }
   ],
   "source": [
    "suggest = requests.get(\"https://www.boredapi.com/api/activity\")\n",
    "suggest = suggest.json()\n",
    "\n",
    "for k in suggest:\n",
    "        detail = suggest[k]\n",
    "        print(k+\":\", detail)"
   ]
  },
  {
   "cell_type": "code",
   "execution_count": null,
   "metadata": {},
   "outputs": [],
   "source": []
  },
  {
   "cell_type": "code",
   "execution_count": null,
   "metadata": {},
   "outputs": [],
   "source": []
  }
 ],
 "metadata": {
  "kernelspec": {
   "display_name": "Python 3",
   "language": "python",
   "name": "python3"
  },
  "language_info": {
   "codemirror_mode": {
    "name": "ipython",
    "version": 3
   },
   "file_extension": ".py",
   "mimetype": "text/x-python",
   "name": "python",
   "nbconvert_exporter": "python",
   "pygments_lexer": "ipython3",
   "version": "3.7.4"
  }
 },
 "nbformat": 4,
 "nbformat_minor": 4
}
